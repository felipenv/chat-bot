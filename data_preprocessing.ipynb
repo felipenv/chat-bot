{
 "cells": [
  {
   "cell_type": "code",
   "execution_count": 1,
   "id": "d7db48cb-2768-4687-b9d2-60b9349d9219",
   "metadata": {},
   "outputs": [
    {
     "name": "stdout",
     "output_type": "stream",
     "text": [
      "Requirement already satisfied: matplotlib in /usr/local/lib/python3.10/site-packages (3.8.0)\n",
      "Requirement already satisfied: contourpy>=1.0.1 in /usr/local/lib/python3.10/site-packages (from matplotlib) (1.1.1)\n",
      "Requirement already satisfied: cycler>=0.10 in /usr/local/lib/python3.10/site-packages (from matplotlib) (0.12.1)\n",
      "Requirement already satisfied: fonttools>=4.22.0 in /usr/local/lib/python3.10/site-packages (from matplotlib) (4.43.1)\n",
      "Requirement already satisfied: kiwisolver>=1.0.1 in /usr/local/lib/python3.10/site-packages (from matplotlib) (1.4.5)\n",
      "Requirement already satisfied: numpy<2,>=1.21 in /root/.local/lib/python3.10/site-packages (from matplotlib) (1.25.2)\n",
      "Requirement already satisfied: packaging>=20.0 in /root/.local/lib/python3.10/site-packages (from matplotlib) (23.2)\n",
      "Requirement already satisfied: pillow>=6.2.0 in /usr/local/lib/python3.10/site-packages (from matplotlib) (10.0.1)\n",
      "Requirement already satisfied: pyparsing>=2.3.1 in /usr/local/lib/python3.10/site-packages (from matplotlib) (3.1.1)\n",
      "Requirement already satisfied: python-dateutil>=2.7 in /usr/local/lib/python3.10/site-packages (from matplotlib) (2.8.2)\n",
      "Requirement already satisfied: six>=1.5 in /root/.local/lib/python3.10/site-packages (from python-dateutil>=2.7->matplotlib) (1.16.0)\n",
      "\u001b[33mWARNING: Running pip as the 'root' user can result in broken permissions and conflicting behaviour with the system package manager. It is recommended to use a virtual environment instead: https://pip.pypa.io/warnings/venv\u001b[0m\u001b[33m\n",
      "\u001b[0m"
     ]
    }
   ],
   "source": [
    "!pip install matplotlib"
   ]
  },
  {
   "cell_type": "code",
   "execution_count": 1,
   "id": "017ba940-0350-4b59-8219-ed73037af064",
   "metadata": {},
   "outputs": [],
   "source": [
    "import json\n",
    "import logging\n",
    "import os\n",
    "import pandas as pd\n",
    "import re\n",
    "import structlog\n",
    "import sys\n",
    "from datasets import Dataset\n",
    "\n",
    "structlog.configure(logger_factory=structlog.stdlib.LoggerFactory())\n",
    "logging.basicConfig(format=\"%(message)s\", stream=sys.stderr, level=logging.INFO)\n",
    "log = structlog.getLogger()"
   ]
  },
  {
   "cell_type": "code",
   "execution_count": 45,
   "id": "d4973767-c057-4df5-862c-1b23fb764b35",
   "metadata": {},
   "outputs": [],
   "source": [
    "class ParseFB:\n",
    "    def __init__(self, bot_sender):\n",
    "        self.bot_sender = bot_sender\n",
    "        self.data = None\n",
    "        self.model_data = pd.DataFrame()\n",
    "        self.tokenized_data = None\n",
    "        self.huggingface_dataset = None\n",
    "\n",
    "\n",
    "    @staticmethod\n",
    "    def fix_string(s):\n",
    "        out_s = re.sub(r'[\\xc2-\\xf4][\\x80-\\xbf]+', lambda m: m.group(0).encode('latin1').decode('utf8'), s)\n",
    "        return out_s\n",
    "\n",
    "    def parse_messages(self, messages):\n",
    "        data = pd.DataFrame.from_records(messages)\n",
    "        data['datetime'] = pd.to_datetime(data['timestamp_ms'], unit='ms')\n",
    "        data = data.sort_values(by='datetime').reset_index(drop=True)\n",
    "        data['content'].fillna(\"\", inplace=True)\n",
    "        data['content'] = data['content'].apply(lambda s: self.fix_string(s))\n",
    "\n",
    "        def concatenate_with_newline(group):\n",
    "            return '\\n'.join(group)\n",
    "\n",
    "        # Concatenate strings in the 'Text' column for each block of sequential identical 'ID' values using \\n as separator\n",
    "        data = data.groupby((data['sender_name'] != data['sender_name'].shift(1)).cumsum()).agg({'content': concatenate_with_newline, 'sender_name': 'first'}).reset_index(drop=True)\n",
    "        if len(data) == 1:\n",
    "            return pd.DataFrame()\n",
    "\n",
    "        if data.iloc[0]['sender_name'] == self.bot_sender:\n",
    "            row = pd.DataFrame({\"content\": [\"\"], \"sender_name\": [data.iloc[1]['sender_name']]})\n",
    "            data = pd.concat([row, data], axis=0, ignore_index=True)\n",
    "\n",
    "        if data.iloc[-1]['sender_name'] != self.bot_sender:\n",
    "            row = pd.DataFrame({\"content\": [\"\"], \"sender_name\": [self.bot_sender]})\n",
    "            data = pd.concat([data, row], axis=0, ignore_index=True)\n",
    "\n",
    "        return data\n",
    "\n",
    "    def parse_data(self, path='data/fb/inbox'):\n",
    "        chats = os.listdir(path)\n",
    "        chat_df = pd.DataFrame()\n",
    "        for chat in chats:\n",
    "            if chat != \".DS_Store\":\n",
    "                for file in os.listdir(f\"{path}/{chat}\"):\n",
    "                    if file.endswith(\".json\"):\n",
    "                        data_json = json.load(open(f\"{path}/{chat}/{file}\", \"r\", encoding='latin1'))\n",
    "                        df = self.parse_messages(data_json[\"messages\"])\n",
    "                        chat_df = pd.concat([chat_df, df], axis=0)\n",
    "        log.info(\"Finished to parse all data\")\n",
    "        self.data = chat_df\n",
    "\n",
    "    def build_model_data(self, path='data/fb/inbox'):\n",
    "        if self.data is None:\n",
    "            self.parse_data(path)\n",
    "        for idx in range(0, len(self.data),2):\n",
    "            df = pd.DataFrame({\"content\": [\"<startofstring> \" + self.data.iloc[idx]['content'] + \" <bot> \" + self.data.iloc[idx+1]['content'] + \" <endofstring>\"]})\n",
    "            self.model_data = pd.concat([self.model_data, df], ignore_index=True)\n",
    "\n",
    "        log.info(\"Finished to build model data\")\n",
    "\n",
    "\n",
    "    def build_huggingface_dataset(self, path='data/fb/inbox'):\n",
    "        if self.model_data.empty:\n",
    "            self.build_model_data(path)\n",
    "\n",
    "        self.huggingface_dataset = Dataset.from_pandas(self.model_data).train_test_split(test_size=0.2, shuffle=False)\n",
    "        log.info(\"Finished to build huggingface dataset\")\n",
    "\n",
    "\n",
    "    def tokenize_data(self, tokenizer):\n",
    "        def preprocess_function(example):\n",
    "            return tokenizer(example['content'])\n",
    "\n",
    "        self.tokenized_data = self.huggingface_dataset.map(\n",
    "            preprocess_function,\n",
    "            batched=True,\n",
    "            num_proc=4,\n",
    "            remove_columns=self.huggingface_dataset[\"train\"].column_names,\n",
    "        )\n"
   ]
  },
  {
   "cell_type": "markdown",
   "id": "75a44c43",
   "metadata": {},
   "source": [
    "## Parse data to dataframe. Already aggregating consecutive texts from same sender as single message. "
   ]
  },
  {
   "cell_type": "code",
   "execution_count": 46,
   "id": "f656ee6c-d159-4c14-bfed-c235bfc4d09c",
   "metadata": {
    "scrolled": false
   },
   "outputs": [
    {
     "name": "stderr",
     "output_type": "stream",
     "text": [
      "\u001b[2m2023-10-10 13:16:36\u001b[0m [\u001b[32m\u001b[1minfo     \u001b[0m] \u001b[1mFinished to parse all data\u001b[0m\n"
     ]
    },
    {
     "data": {
      "text/html": [
       "<div>\n",
       "<style scoped>\n",
       "    .dataframe tbody tr th:only-of-type {\n",
       "        vertical-align: middle;\n",
       "    }\n",
       "\n",
       "    .dataframe tbody tr th {\n",
       "        vertical-align: top;\n",
       "    }\n",
       "\n",
       "    .dataframe thead th {\n",
       "        text-align: right;\n",
       "    }\n",
       "</style>\n",
       "<table border=\"1\" class=\"dataframe\">\n",
       "  <thead>\n",
       "    <tr style=\"text-align: right;\">\n",
       "      <th></th>\n",
       "      <th>content</th>\n",
       "      <th>sender_name</th>\n",
       "    </tr>\n",
       "  </thead>\n",
       "  <tbody>\n",
       "    <tr>\n",
       "      <th>0</th>\n",
       "      <td>Hello hello how are you? How is Vhristmas holi...</td>\n",
       "      <td>Adel Adelova</td>\n",
       "    </tr>\n",
       "    <tr>\n",
       "      <th>1</th>\n",
       "      <td>Christmas is long gone, but holidays are going...</td>\n",
       "      <td>Felipe Vianna</td>\n",
       "    </tr>\n",
       "    <tr>\n",
       "      <th>2</th>\n",
       "      <td>Hell yeah, I need to turn back to my normal sc...</td>\n",
       "      <td>Adel Adelova</td>\n",
       "    </tr>\n",
       "    <tr>\n",
       "      <th>3</th>\n",
       "      <td>Yes! I usually sleep at 2.. but as I’m not wor...</td>\n",
       "      <td>Felipe Vianna</td>\n",
       "    </tr>\n",
       "    <tr>\n",
       "      <th>4</th>\n",
       "      <td>Wooow\\nYou are like that night bird :)\\nSo you...</td>\n",
       "      <td>Adel Adelova</td>\n",
       "    </tr>\n",
       "  </tbody>\n",
       "</table>\n",
       "</div>"
      ],
      "text/plain": [
       "                                             content    sender_name\n",
       "0  Hello hello how are you? How is Vhristmas holi...   Adel Adelova\n",
       "1  Christmas is long gone, but holidays are going...  Felipe Vianna\n",
       "2  Hell yeah, I need to turn back to my normal sc...   Adel Adelova\n",
       "3  Yes! I usually sleep at 2.. but as I’m not wor...  Felipe Vianna\n",
       "4  Wooow\\nYou are like that night bird :)\\nSo you...   Adel Adelova"
      ]
     },
     "execution_count": 46,
     "metadata": {},
     "output_type": "execute_result"
    }
   ],
   "source": [
    "bot_sender = \"Felipe Vianna\"\n",
    "parser = ParseFB(bot_sender)\n",
    "parser.parse_data()\n",
    "parser.data.head()"
   ]
  },
  {
   "cell_type": "markdown",
   "id": "53dd55b0",
   "metadata": {},
   "source": [
    "### Make the data with tokens to mark start of message, start of bot and end of message for training dataset"
   ]
  },
  {
   "cell_type": "code",
   "execution_count": 47,
   "id": "3607b431",
   "metadata": {},
   "outputs": [
    {
     "name": "stderr",
     "output_type": "stream",
     "text": [
      "\u001b[2m2023-10-10 13:16:38\u001b[0m [\u001b[32m\u001b[1minfo     \u001b[0m] \u001b[1mFinished to build model data\u001b[0m\n"
     ]
    },
    {
     "data": {
      "text/html": [
       "<div>\n",
       "<style scoped>\n",
       "    .dataframe tbody tr th:only-of-type {\n",
       "        vertical-align: middle;\n",
       "    }\n",
       "\n",
       "    .dataframe tbody tr th {\n",
       "        vertical-align: top;\n",
       "    }\n",
       "\n",
       "    .dataframe thead th {\n",
       "        text-align: right;\n",
       "    }\n",
       "</style>\n",
       "<table border=\"1\" class=\"dataframe\">\n",
       "  <thead>\n",
       "    <tr style=\"text-align: right;\">\n",
       "      <th></th>\n",
       "      <th>content</th>\n",
       "    </tr>\n",
       "  </thead>\n",
       "  <tbody>\n",
       "    <tr>\n",
       "      <th>0</th>\n",
       "      <td>&lt;startofstring&gt; Hello hello how are you? How i...</td>\n",
       "    </tr>\n",
       "    <tr>\n",
       "      <th>1</th>\n",
       "      <td>&lt;startofstring&gt; Hell yeah, I need to turn back...</td>\n",
       "    </tr>\n",
       "    <tr>\n",
       "      <th>2</th>\n",
       "      <td>&lt;startofstring&gt; Wooow\\nYou are like that night...</td>\n",
       "    </tr>\n",
       "    <tr>\n",
       "      <th>3</th>\n",
       "      <td>&lt;startofstring&gt; Hmm thats the question... I do...</td>\n",
       "    </tr>\n",
       "    <tr>\n",
       "      <th>4</th>\n",
       "      <td>&lt;startofstring&gt; Wooow niiice so New Year inSlo...</td>\n",
       "    </tr>\n",
       "  </tbody>\n",
       "</table>\n",
       "</div>"
      ],
      "text/plain": [
       "                                             content\n",
       "0  <startofstring> Hello hello how are you? How i...\n",
       "1  <startofstring> Hell yeah, I need to turn back...\n",
       "2  <startofstring> Wooow\\nYou are like that night...\n",
       "3  <startofstring> Hmm thats the question... I do...\n",
       "4  <startofstring> Wooow niiice so New Year inSlo..."
      ]
     },
     "execution_count": 47,
     "metadata": {},
     "output_type": "execute_result"
    }
   ],
   "source": [
    "parser.build_model_data()\n",
    "parser.model_data.head()"
   ]
  },
  {
   "cell_type": "markdown",
   "id": "42ec2d4b",
   "metadata": {},
   "source": [
    "### stats on lenght of text"
   ]
  },
  {
   "cell_type": "code",
   "execution_count": 48,
   "id": "b81f07e2",
   "metadata": {},
   "outputs": [],
   "source": [
    "df = parser.model_data.copy()"
   ]
  },
  {
   "cell_type": "code",
   "execution_count": 49,
   "id": "45addf9a-b883-410e-842a-af546d55bb08",
   "metadata": {},
   "outputs": [],
   "source": [
    "df['length'] = df['content'].apply(lambda x: len(x))"
   ]
  },
  {
   "cell_type": "code",
   "execution_count": 50,
   "id": "1d9ec1ef-f34e-4985-9b93-c6d7279015c3",
   "metadata": {},
   "outputs": [
    {
     "data": {
      "text/plain": [
       "<Axes: >"
      ]
     },
     "execution_count": 50,
     "metadata": {},
     "output_type": "execute_result"
    },
    {
     "data": {
      "image/png": "[encoded data removed]",
      "text/plain": [
       "<Figure size 640x480 with 1 Axes>"
      ]
     },
     "metadata": {},
     "output_type": "display_data"
    }
   ],
   "source": [
    "df['length'].hist(bins=50)"
   ]
  },
  {
   "cell_type": "markdown",
   "id": "d1be47d5",
   "metadata": {},
   "source": [
    "## Create huggingface dataset"
   ]
  },
  {
   "cell_type": "code",
   "execution_count": null,
   "id": "4076b511",
   "metadata": {},
   "outputs": [],
   "source": []
  },
  {
   "cell_type": "code",
   "execution_count": 51,
   "id": "12e7fd44",
   "metadata": {},
   "outputs": [
    {
     "name": "stderr",
     "output_type": "stream",
     "text": [
      "\u001b[2m2023-10-10 13:16:39\u001b[0m [\u001b[32m\u001b[1minfo     \u001b[0m] \u001b[1mFinished to build huggingface dataset\u001b[0m\n"
     ]
    }
   ],
   "source": [
    "parser.build_huggingface_dataset()"
   ]
  },
  {
   "cell_type": "code",
   "execution_count": 52,
   "id": "ceec1e37",
   "metadata": {},
   "outputs": [
    {
     "data": {
      "text/plain": [
       "DatasetDict({\n",
       "    train: Dataset({\n",
       "        features: ['content'],\n",
       "        num_rows: 11633\n",
       "    })\n",
       "    test: Dataset({\n",
       "        features: ['content'],\n",
       "        num_rows: 2909\n",
       "    })\n",
       "})"
      ]
     },
     "execution_count": 52,
     "metadata": {},
     "output_type": "execute_result"
    }
   ],
   "source": [
    "parser.huggingface_dataset"
   ]
  },
  {
   "cell_type": "code",
   "execution_count": 63,
   "id": "441e9aa6",
   "metadata": {},
   "outputs": [
    {
     "data": {
      "text/plain": [
       "Dataset({\n",
       "    features: ['content'],\n",
       "    num_rows: 11633\n",
       "})"
      ]
     },
     "execution_count": 63,
     "metadata": {},
     "output_type": "execute_result"
    }
   ],
   "source": [
    "parser.huggingface_dataset['train']"
   ]
  },
  {
   "cell_type": "code",
   "execution_count": null,
   "id": "f3652161",
   "metadata": {},
   "outputs": [],
   "source": []
  },
  {
   "cell_type": "markdown",
   "id": "7372319b",
   "metadata": {},
   "source": [
    "## Tokenize data"
   ]
  },
  {
   "cell_type": "code",
   "execution_count": 54,
   "id": "2fd4fcbd",
   "metadata": {},
   "outputs": [
    {
     "data": {
      "text/plain": [
       "1"
      ]
     },
     "execution_count": 54,
     "metadata": {},
     "output_type": "execute_result"
    }
   ],
   "source": [
    "from transformers import AutoTokenizer\n",
    "tokenizer = AutoTokenizer.from_pretrained(\"gpt2\")\n",
    "tokenizer.add_special_tokens({\"pad_token\": \"<pad>\", \n",
    "                                \"bos_token\": \"<startofstring>\",\n",
    "                                \"eos_token\": \"<endofstring>\"})\n",
    "tokenizer.add_tokens([\"<bot>\"])"
   ]
  },
  {
   "cell_type": "code",
   "execution_count": 55,
   "id": "1c4ade51",
   "metadata": {},
   "outputs": [
    {
     "data": {
      "application/vnd.jupyter.widget-view+json": {
       "model_id": "855b73ea7bc648568716364b21d7dee9",
       "version_major": 2,
       "version_minor": 0
      },
      "text/plain": [
       "Map (num_proc=4):   0%|          | 0/11633 [00:00<?, ? examples/s]"
      ]
     },
     "metadata": {},
     "output_type": "display_data"
    },
    {
     "data": {
      "application/vnd.jupyter.widget-view+json": {
       "model_id": "62b55f369def4fe3bf2a10f95d57dd43",
       "version_major": 2,
       "version_minor": 0
      },
      "text/plain": [
       "Map (num_proc=4):   0%|          | 0/2909 [00:00<?, ? examples/s]"
      ]
     },
     "metadata": {},
     "output_type": "display_data"
    }
   ],
   "source": [
    "parser.tokenize_data(tokenizer)"
   ]
  },
  {
   "cell_type": "code",
   "execution_count": 56,
   "id": "514e3b56",
   "metadata": {
    "scrolled": true
   },
   "outputs": [
    {
     "name": "stdout",
     "output_type": "stream",
     "text": [
      "43\n"
     ]
    },
    {
     "data": {
      "text/plain": [
       "{'input_ids': [50258,\n",
       "  18435,\n",
       "  23748,\n",
       "  703,\n",
       "  389,\n",
       "  345,\n",
       "  30,\n",
       "  1374,\n",
       "  318,\n",
       "  569,\n",
       "  71,\n",
       "  1585,\n",
       "  5356,\n",
       "  9912,\n",
       "  1016,\n",
       "  30,\n",
       "  220,\n",
       "  50260,\n",
       "  6786,\n",
       "  318,\n",
       "  890,\n",
       "  3750,\n",
       "  11,\n",
       "  475,\n",
       "  17122,\n",
       "  389,\n",
       "  1016,\n",
       "  880,\n",
       "  796,\n",
       "  60,\n",
       "  198,\n",
       "  26738,\n",
       "  7213,\n",
       "  2739,\n",
       "  777,\n",
       "  1528,\n",
       "  30,\n",
       "  304,\n",
       "  258,\n",
       "  258,\n",
       "  71,\n",
       "  220,\n",
       "  50259],\n",
       " 'attention_mask': [1,\n",
       "  1,\n",
       "  1,\n",
       "  1,\n",
       "  1,\n",
       "  1,\n",
       "  1,\n",
       "  1,\n",
       "  1,\n",
       "  1,\n",
       "  1,\n",
       "  1,\n",
       "  1,\n",
       "  1,\n",
       "  1,\n",
       "  1,\n",
       "  1,\n",
       "  1,\n",
       "  1,\n",
       "  1,\n",
       "  1,\n",
       "  1,\n",
       "  1,\n",
       "  1,\n",
       "  1,\n",
       "  1,\n",
       "  1,\n",
       "  1,\n",
       "  1,\n",
       "  1,\n",
       "  1,\n",
       "  1,\n",
       "  1,\n",
       "  1,\n",
       "  1,\n",
       "  1,\n",
       "  1,\n",
       "  1,\n",
       "  1,\n",
       "  1,\n",
       "  1,\n",
       "  1,\n",
       "  1]}"
      ]
     },
     "execution_count": 56,
     "metadata": {},
     "output_type": "execute_result"
    }
   ],
   "source": [
    "print(len(parser.tokenized_data['train'][0]['input_ids']))\n",
    "parser.tokenized_data['train'][0]"
   ]
  },
  {
   "cell_type": "code",
   "execution_count": 57,
   "id": "e967394c",
   "metadata": {},
   "outputs": [],
   "source": [
    "train_data = parser.tokenized_data['train'].to_pandas()"
   ]
  },
  {
   "cell_type": "code",
   "execution_count": 58,
   "id": "a913412c",
   "metadata": {},
   "outputs": [
    {
     "data": {
      "text/plain": [
       "array([50258, 18435, 23748,   703,   389,   345,    30,  1374,   318,\n",
       "         569,    71,  1585,  5356,  9912,  1016,    30,   220, 50260,\n",
       "        6786,   318,   890,  3750,    11,   475, 17122,   389,  1016,\n",
       "         880,   796,    60,   198, 26738,  7213,  2739,   777,  1528,\n",
       "          30,   304,   258,   258,    71,   220, 50259], dtype=int32)"
      ]
     },
     "execution_count": 58,
     "metadata": {},
     "output_type": "execute_result"
    }
   ],
   "source": [
    "train_data['input_ids'][0]"
   ]
  },
  {
   "cell_type": "markdown",
   "id": "9912220c",
   "metadata": {},
   "source": [
    "### Stats on tokenized data"
   ]
  },
  {
   "cell_type": "code",
   "execution_count": 59,
   "id": "8536b323-1e96-4e41-ad0d-01a556a057c1",
   "metadata": {},
   "outputs": [],
   "source": [
    "df = train_data.copy()"
   ]
  },
  {
   "cell_type": "code",
   "execution_count": 60,
   "id": "d3133fa2-7c67-45e6-893e-6613ed71dcc0",
   "metadata": {},
   "outputs": [],
   "source": [
    "df['length'] = df['input_ids'].apply(lambda x: len(x))"
   ]
  },
  {
   "cell_type": "code",
   "execution_count": 61,
   "id": "0216b41f-7625-4629-8feb-6936e6b2dfa8",
   "metadata": {},
   "outputs": [
    {
     "data": {
      "text/plain": [
       "<Axes: >"
      ]
     },
     "execution_count": 61,
     "metadata": {},
     "output_type": "execute_result"
    },
    {
     "data": {
      "image/png": "[encoded data removed]",
      "text/plain": [
       "<Figure size 640x480 with 1 Axes>"
      ]
     },
     "metadata": {},
     "output_type": "display_data"
    }
   ],
   "source": [
    "df['length'].clip(0,200).hist(bins=50)"
   ]
  },
  {
   "cell_type": "code",
   "execution_count": null,
   "id": "e7a84a09-b8b8-49fb-a0c9-c81dd7188869",
   "metadata": {},
   "outputs": [],
   "source": []
  },
  {
   "cell_type": "code",
   "execution_count": 64,
   "id": "547d9312-ba1f-419d-9e09-ad80e9f7fc69",
   "metadata": {},
   "outputs": [],
   "source": [
    "block_size = 64\n",
    "\n",
    "\n",
    "def group_texts(examples):\n",
    "    # Concatenate all texts.\n",
    "    concatenated_examples = {k: sum(examples[k], []) for k in examples.keys()}\n",
    "    total_length = len(concatenated_examples[list(examples.keys())[0]])\n",
    "    # We drop the small remainder, we could add padding if the model supported it instead of this drop, you can\n",
    "    # customize this part to your needs.\n",
    "    if total_length >= block_size:\n",
    "        total_length = (total_length // block_size) * block_size\n",
    "    # Split by chunks of block_size.\n",
    "    result = {\n",
    "        k: [t[i : i + block_size] for i in range(0, total_length, block_size)]\n",
    "        for k, t in concatenated_examples.items()\n",
    "    }\n",
    "    result[\"labels\"] = result[\"input_ids\"].copy()\n",
    "    return result"
   ]
  },
  {
   "cell_type": "code",
   "execution_count": 65,
   "id": "a9432c5e-d6f3-49ca-bfe4-3ac4d4b363dd",
   "metadata": {},
   "outputs": [
    {
     "data": {
      "application/vnd.jupyter.widget-view+json": {
       "model_id": "55223d38e1db4e0e91ce4f6b2bd12473",
       "version_major": 2,
       "version_minor": 0
      },
      "text/plain": [
       "Map (num_proc=4):   0%|          | 0/11633 [00:00<?, ? examples/s]"
      ]
     },
     "metadata": {},
     "output_type": "display_data"
    },
    {
     "data": {
      "application/vnd.jupyter.widget-view+json": {
       "model_id": "a687cef161264143b981113d58d8ae38",
       "version_major": 2,
       "version_minor": 0
      },
      "text/plain": [
       "Map (num_proc=4):   0%|          | 0/2909 [00:00<?, ? examples/s]"
      ]
     },
     "metadata": {},
     "output_type": "display_data"
    }
   ],
   "source": [
    "lm_dataset = parser.tokenized_data.map(group_texts, batched=True, num_proc=4)"
   ]
  },
  {
   "cell_type": "code",
   "execution_count": 66,
   "id": "e3932bab-e5cb-46eb-85be-ac50da37d867",
   "metadata": {
    "scrolled": true
   },
   "outputs": [
    {
     "data": {
      "text/plain": [
       "{'input_ids': [50258,\n",
       "  18435,\n",
       "  23748,\n",
       "  703,\n",
       "  389,\n",
       "  345,\n",
       "  30,\n",
       "  1374,\n",
       "  318,\n",
       "  569,\n",
       "  71,\n",
       "  1585,\n",
       "  5356,\n",
       "  9912,\n",
       "  1016,\n",
       "  30,\n",
       "  220,\n",
       "  50260,\n",
       "  6786,\n",
       "  318,\n",
       "  890,\n",
       "  3750,\n",
       "  11,\n",
       "  475,\n",
       "  17122,\n",
       "  389,\n",
       "  1016,\n",
       "  880,\n",
       "  796,\n",
       "  60,\n",
       "  198,\n",
       "  26738,\n",
       "  7213,\n",
       "  2739,\n",
       "  777,\n",
       "  1528,\n",
       "  30,\n",
       "  304,\n",
       "  258,\n",
       "  258,\n",
       "  71,\n",
       "  220,\n",
       "  50259,\n",
       "  50258,\n",
       "  5783,\n",
       "  10194,\n",
       "  11,\n",
       "  314,\n",
       "  761,\n",
       "  284,\n",
       "  1210,\n",
       "  736,\n",
       "  284,\n",
       "  616,\n",
       "  3487,\n",
       "  7269,\n",
       "  11,\n",
       "  5521,\n",
       "  318,\n",
       "  2406,\n",
       "  2582,\n",
       "  14373,\n",
       "  198,\n",
       "  1870],\n",
       " 'attention_mask': [1,\n",
       "  1,\n",
       "  1,\n",
       "  1,\n",
       "  1,\n",
       "  1,\n",
       "  1,\n",
       "  1,\n",
       "  1,\n",
       "  1,\n",
       "  1,\n",
       "  1,\n",
       "  1,\n",
       "  1,\n",
       "  1,\n",
       "  1,\n",
       "  1,\n",
       "  1,\n",
       "  1,\n",
       "  1,\n",
       "  1,\n",
       "  1,\n",
       "  1,\n",
       "  1,\n",
       "  1,\n",
       "  1,\n",
       "  1,\n",
       "  1,\n",
       "  1,\n",
       "  1,\n",
       "  1,\n",
       "  1,\n",
       "  1,\n",
       "  1,\n",
       "  1,\n",
       "  1,\n",
       "  1,\n",
       "  1,\n",
       "  1,\n",
       "  1,\n",
       "  1,\n",
       "  1,\n",
       "  1,\n",
       "  1,\n",
       "  1,\n",
       "  1,\n",
       "  1,\n",
       "  1,\n",
       "  1,\n",
       "  1,\n",
       "  1,\n",
       "  1,\n",
       "  1,\n",
       "  1,\n",
       "  1,\n",
       "  1,\n",
       "  1,\n",
       "  1,\n",
       "  1,\n",
       "  1,\n",
       "  1,\n",
       "  1,\n",
       "  1,\n",
       "  1],\n",
       " 'labels': [50258,\n",
       "  18435,\n",
       "  23748,\n",
       "  703,\n",
       "  389,\n",
       "  345,\n",
       "  30,\n",
       "  1374,\n",
       "  318,\n",
       "  569,\n",
       "  71,\n",
       "  1585,\n",
       "  5356,\n",
       "  9912,\n",
       "  1016,\n",
       "  30,\n",
       "  220,\n",
       "  50260,\n",
       "  6786,\n",
       "  318,\n",
       "  890,\n",
       "  3750,\n",
       "  11,\n",
       "  475,\n",
       "  17122,\n",
       "  389,\n",
       "  1016,\n",
       "  880,\n",
       "  796,\n",
       "  60,\n",
       "  198,\n",
       "  26738,\n",
       "  7213,\n",
       "  2739,\n",
       "  777,\n",
       "  1528,\n",
       "  30,\n",
       "  304,\n",
       "  258,\n",
       "  258,\n",
       "  71,\n",
       "  220,\n",
       "  50259,\n",
       "  50258,\n",
       "  5783,\n",
       "  10194,\n",
       "  11,\n",
       "  314,\n",
       "  761,\n",
       "  284,\n",
       "  1210,\n",
       "  736,\n",
       "  284,\n",
       "  616,\n",
       "  3487,\n",
       "  7269,\n",
       "  11,\n",
       "  5521,\n",
       "  318,\n",
       "  2406,\n",
       "  2582,\n",
       "  14373,\n",
       "  198,\n",
       "  1870]}"
      ]
     },
     "execution_count": 66,
     "metadata": {},
     "output_type": "execute_result"
    }
   ],
   "source": [
    "lm_dataset['train'][0]"
   ]
  },
  {
   "cell_type": "code",
   "execution_count": null,
   "id": "e05750e5-1bfa-4797-a46f-8ae63b40661f",
   "metadata": {},
   "outputs": [],
   "source": []
  },
  {
   "cell_type": "code",
   "execution_count": null,
   "id": "ffa7c493-5d7c-4cae-9b0c-f9b9e0bf027e",
   "metadata": {},
   "outputs": [],
   "source": []
  },
  {
   "cell_type": "code",
   "execution_count": null,
   "id": "7bfcd5ce-4f28-473f-91c0-e7b8f53e5f96",
   "metadata": {},
   "outputs": [],
   "source": []
  },
  {
   "cell_type": "code",
   "execution_count": null,
   "id": "b3205869-b94a-4ee1-bee3-38968b8b5309",
   "metadata": {},
   "outputs": [],
   "source": []
  }
 ],
 "metadata": {
  "kernelspec": {
   "display_name": "Python 3 (ipykernel)",
   "language": "python",
   "name": "python3"
  },
  "language_info": {
   "codemirror_mode": {
    "name": "ipython",
    "version": 3
   },
   "file_extension": ".py",
   "mimetype": "text/x-python",
   "name": "python",
   "nbconvert_exporter": "python",
   "pygments_lexer": "ipython3",
   "version": "3.10.13"
  }
 },
 "nbformat": 4,
 "nbformat_minor": 5
}
